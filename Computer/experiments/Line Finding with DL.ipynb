{
 "cells": [
  {
   "cell_type": "code",
   "execution_count": 1,
   "metadata": {},
   "outputs": [
    {
     "data": {
      "application/javascript": [
       "// To get notebook's full path\n",
       "var kernel = Jupyter.notebook.kernel; \n",
       "var command = [\"notebookPath = \",\n",
       "               \"'\", window.document.body.dataset.notebookPath, \"'\" ].join('')\n",
       "//alert(command)\n",
       "kernel.execute(command)\n",
       "var command = [\"notebookName = \",\n",
       "               \"'\", window.document.body.dataset.notebookName, \"'\" ].join('')\n",
       "//alert(command)\n",
       "kernel.execute(command)"
      ],
      "text/plain": [
       "<IPython.core.display.Javascript object>"
      ]
     },
     "metadata": {},
     "output_type": "display_data"
    }
   ],
   "source": [
    "%%javascript \n",
    "// To get notebook's full path\n",
    "var kernel = Jupyter.notebook.kernel; \n",
    "var command = [\"notebookPath = \",\n",
    "               \"'\", window.document.body.dataset.notebookPath, \"'\" ].join('')\n",
    "//alert(command)\n",
    "kernel.execute(command)\n",
    "var command = [\"notebookName = \",\n",
    "               \"'\", window.document.body.dataset.notebookName, \"'\" ].join('')\n",
    "//alert(command)\n",
    "kernel.execute(command)"
   ]
  },
  {
   "cell_type": "code",
   "execution_count": 2,
   "metadata": {},
   "outputs": [
    {
     "name": "stdout",
     "output_type": "stream",
     "text": [
      "/home/jay/Self-Driving-RC/Computer/experiments\n"
     ]
    },
    {
     "name": "stderr",
     "output_type": "stream",
     "text": [
      "Using TensorFlow backend.\n"
     ]
    }
   ],
   "source": [
    "# Inputs:\n",
    "# - X: 310 x 240 px image, 3 channels.\n",
    "# Outputs:\n",
    "# - y: 3 (or 6) coefficients for polynomial.\n",
    "\n",
    "import os, sys\n",
    "\n",
    "dir_path = os.path.dirname(os.path.abspath(notebookName))\n",
    "print(dir_path)\n",
    "\n",
    "# Path to Computer root directory\n",
    "ROOT_DIR = os.path.realpath(os.path.join(dir_path, '..'))\n",
    "\n",
    "sys.path.append(ROOT_DIR)\n",
    "from libraries.helpers import configuration, prepare_initial_transformation\n",
    "from libraries.find_lines_sliding_windows import FindLinesSlidingWindows\n",
    "from libraries.line_helpers import annotate_with_lines\n",
    "\n",
    "import glob\n",
    "import cv2\n",
    "import numpy as np\n",
    "import pdb\n",
    "\n",
    "config = configuration()\n",
    "\n",
    "# Make sure the target shape is the same with the one in driver/main.py\n",
    "# i.e. look for cams setup with variable CAP_PROP_FRAME_WIDTH and CAP_PROP_FRAME_HEIGHT.\n",
    "TARGET_WIDTH = config['target_width']\n",
    "TARGET_HEIGHT = config['target_height']\n",
    "TARGET_CROP = config['target_crop']\n",
    "STEER_MIN = config['steer_min']\n",
    "STEER_MAX = config['steer_max']\n",
    "CHANNELS = config['channels']\n",
    "NORMALIZE = config['normalize']\n",
    "\n",
    "mtx, dist, M, Minv = prepare_initial_transformation(\n",
    "    os.path.join(ROOT_DIR, 'calibrations', 'cal-elp.p'), TARGET_HEIGHT, TARGET_WIDTH)"
   ]
  },
  {
   "cell_type": "code",
   "execution_count": null,
   "metadata": {
    "scrolled": false
   },
   "outputs": [],
   "source": [
    "# Create training data\n",
    "\n",
    "def create_labels(image_paths, function, results_dir=None):\n",
    "    \"\"\" Create labels from given list of images\n",
    "    \n",
    "    Args:\n",
    "        - image_paths: List of paths of 3 channels images.\n",
    "        - results_dir: If set, annotated images will be saved here.\n",
    "    \"\"\"\n",
    "    y = []\n",
    "    for image_path in image_paths:\n",
    "        img = cv2.imread(image_path)\n",
    "        img = cv2.cvtColor(img, cv2.COLOR_BGR2RGB)\n",
    "        fits = function(img)\n",
    "        if 'left' in fits and len(fits['left']) > 0:\n",
    "            label = (True, *fits['left'][0]['poly'])\n",
    "        else:\n",
    "            # These zeroes may create problems later. Write custom loss\n",
    "            # function when that happens.\n",
    "            label = (False, 0, 0, 0)\n",
    "        y.append(label)\n",
    "        \n",
    "        if results_dir:\n",
    "            # Save annotated images.\n",
    "            os.makedirs(results_dir, exist_ok=True)\n",
    "            undist = cv2.undistort(img, mtx, dist, None, mtx)\n",
    "            warped = cv2.warpPerspective(undist, M, (TARGET_WIDTH, TARGET_HEIGHT))\n",
    "\n",
    "            annotated = annotate_with_lines(warped, {'left': fits['left']})\n",
    "            \n",
    "            annotated = cv2.warpPerspective(annotated, Minv, (TARGET_WIDTH, TARGET_HEIGHT))\n",
    "\n",
    "            filename = os.path.basename(image_path)\n",
    "            filepath = os.path.join(results_dir, filename)\n",
    "            cv2.imwrite(filepath, annotated)\n",
    "    return (y)\n",
    "\n",
    "# There are multiple ways to find the polynomials that will have different coverages for each.\n",
    "\n",
    "def find_poly1(img_raw, height, width, crop, mtx, dist, M):\n",
    "\n",
    "    img = cv2.cvtColor(img_raw, cv2.COLOR_BGR2HSV)[:, :, 1]\n",
    "    img = cv2.Sobel(img, -1, 1, 0, ksize=3)\n",
    "    img = img > 127\n",
    "    \n",
    "    img1 = cv2.cvtColor(img_raw, cv2.COLOR_BGR2HSV)[:, :, 2]\n",
    "    img1 = cv2.Sobel(img1, -1, 0, 1, ksize=3)\n",
    "    img1 = img1 > 127\n",
    "    \n",
    "    img2 = cv2.cvtColor(img_raw, cv2.COLOR_BGR2HSV)\n",
    "    img2 = cv2.inRange(img2, (38, 61, 112), (139, 255, 255))\n",
    "    img2 = img2 > 25.5\n",
    "\n",
    "    final_img = (img==1) | (img1==1) | (img2==1)\n",
    "    \n",
    "    f3 = np.stack((final_img, final_img, final_img), axis=2)\n",
    "    f3 = (f3 * 255.0).astype(np.uint8)\n",
    "\n",
    "    undist = cv2.undistort(f3, mtx, dist, None, mtx)\n",
    "    warped = cv2.warpPerspective(undist, M, (width, height))\n",
    "    warped = warped[:, :, 0]\n",
    "\n",
    "    finder = FindLinesSlidingWindows(nwindows=30, window_minpix=20, subsequent_search_margin=30,\n",
    "                                     lr_start_slack=0.1, debug=False, error_top_percentile=75,\n",
    "                                     center_importance=4,\n",
    "                                     error_threshold=30, window_patience=7, window_empty_px=5)\n",
    "    fits = finder.process(warped)\n",
    "    return fits\n",
    "\n",
    "def annotate_with_lines(background, lines, keep_background=True, Minv=None):\n",
    "    \"\"\" Annotate a background with lines. \"\"\"    \n",
    "    ploty = [i for i in range(background.shape[0])]\n",
    "    # Create an image to draw the lines on\n",
    "    if keep_background:\n",
    "        canvas = np.array(background, dtype=np.uint8)\n",
    "    else:\n",
    "        canvas = np.zeros_like(background).astype(np.uint8)\n",
    "\n",
    "    # If grey image, convert to three channels\n",
    "    if len(canvas.shape) == 2 or canvas.shape[2] == 1:\n",
    "        canvas = np.stack((canvas, canvas, canvas), axis=2)\n",
    "        canvas = (canvas * 255.0).astype(np.uint8)\n",
    "    \n",
    "    if 'left' in lines:\n",
    "        for line in lines['left']:\n",
    "            if line is not None:\n",
    "                fitx = line['x']\n",
    "                pts = np.array([np.transpose(np.vstack([fitx, ploty]))], np.int32)\n",
    "                cv2.polylines(canvas, np.int_([pts]), False, (255, 255, 0), thickness=3)\n",
    "            \n",
    "    if 'right' in lines:\n",
    "        for line in lines['right']:\n",
    "            if line is not None:\n",
    "                fitx = line['x']\n",
    "                pts = np.array([np.transpose(np.vstack([fitx, ploty]))], np.int32)\n",
    "                cv2.polylines(canvas, np.int_([pts]), False, (0, 255, 0), thickness=3)\n",
    "        \n",
    "    return canvas\n",
    "\n",
    "def find_poly2(image):\n",
    "    finder = SlidingWindow(param1)\n",
    "    return processed_image\n",
    "\n",
    "image_paths = glob.glob(\"/home/jay/Self-Driving-RC-Data/recorded-2017-06-11-training/recorded/*.jpg\")\n",
    "\n",
    "y = create_labels(image_paths[:],\n",
    "                  lambda img: find_poly1(img, TARGET_HEIGHT, TARGET_WIDTH, TARGET_CROP, mtx, dist, M),\n",
    "                  results_dir=\"/home/jay/Self-Driving-RC-Data/recorded-2017-06-11-training/poly\")"
   ]
  },
  {
   "cell_type": "code",
   "execution_count": 19,
   "metadata": {},
   "outputs": [
    {
     "data": {
      "text/plain": [
       "(True, -0.006969107601466607, 0.28172161740877882, 338.11055318359342)"
      ]
     },
     "execution_count": 19,
     "metadata": {},
     "output_type": "execute_result"
    }
   ],
   "source": [
    "y[1]"
   ]
  },
  {
   "cell_type": "code",
   "execution_count": 22,
   "metadata": {},
   "outputs": [
    {
     "ename": "NameError",
     "evalue": "name 'load_images' is not defined",
     "output_type": "error",
     "traceback": [
      "\u001b[0;31m---------------------------------------------------------------------------\u001b[0m",
      "\u001b[0;31mNameError\u001b[0m                                 Traceback (most recent call last)",
      "\u001b[0;32m<ipython-input-22-59826e341e92>\u001b[0m in \u001b[0;36m<module>\u001b[0;34m()\u001b[0m\n\u001b[1;32m      1\u001b[0m \u001b[0;31m# Create model\u001b[0m\u001b[0;34m\u001b[0m\u001b[0;34m\u001b[0m\u001b[0m\n\u001b[1;32m      2\u001b[0m \u001b[0;34m\u001b[0m\u001b[0m\n\u001b[0;32m----> 3\u001b[0;31m \u001b[0mimages\u001b[0m \u001b[0;34m=\u001b[0m \u001b[0mload_images\u001b[0m\u001b[0;34m\u001b[0m\u001b[0m\n\u001b[0m\u001b[1;32m      4\u001b[0m \u001b[0;34m\u001b[0m\u001b[0m\n\u001b[1;32m      5\u001b[0m \u001b[0;32mdef\u001b[0m \u001b[0mtrain\u001b[0m\u001b[0;34m(\u001b[0m\u001b[0mimages\u001b[0m\u001b[0;34m,\u001b[0m \u001b[0my\u001b[0m\u001b[0;34m)\u001b[0m\u001b[0;34m:\u001b[0m\u001b[0;34m\u001b[0m\u001b[0m\n",
      "\u001b[0;31mNameError\u001b[0m: name 'load_images' is not defined"
     ]
    }
   ],
   "source": [
    "# Create model\n",
    "\n",
    "images = load_images\n",
    "\n",
    "def train(images, y):\n",
    "    pass"
   ]
  }
 ],
 "metadata": {
  "kernelspec": {
   "display_name": "Python 3",
   "language": "python",
   "name": "python3"
  },
  "language_info": {
   "codemirror_mode": {
    "name": "ipython",
    "version": 3
   },
   "file_extension": ".py",
   "mimetype": "text/x-python",
   "name": "python",
   "nbconvert_exporter": "python",
   "pygments_lexer": "ipython3",
   "version": "3.6.1"
  }
 },
 "nbformat": 4,
 "nbformat_minor": 2
}
